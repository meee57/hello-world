{
 "cells": [
  {
   "cell_type": "code",
   "execution_count": 6,
   "id": "7d333285-ed47-4acf-8e9f-4c417fa23713",
   "metadata": {},
   "outputs": [
    {
     "name": "stdin",
     "output_type": "stream",
     "text": [
      "Enter your name:  Braden\n",
      "Enter your age in numbers:  19\n"
     ]
    },
    {
     "name": "stdout",
     "output_type": "stream",
     "text": [
      "Braden You have lived for about 6935.0 days\n"
     ]
    }
   ],
   "source": [
    "name = input(\"Enter your name: \")\n",
    "yearslived = float(input(\"Enter your age in numbers: \"))\n",
    "dayslived = yearslived * 365\n",
    "print(name, \"You have lived for about\", dayslived , \"days\")"
   ]
  },
  {
   "cell_type": "code",
   "execution_count": null,
   "id": "195b1faa-daa8-451b-a96b-effd9c26a701",
   "metadata": {},
   "outputs": [],
   "source": []
  }
 ],
 "metadata": {
  "kernelspec": {
   "display_name": "Python 3 (ipykernel)",
   "language": "python",
   "name": "python3"
  },
  "language_info": {
   "codemirror_mode": {
    "name": "ipython",
    "version": 3
   },
   "file_extension": ".py",
   "mimetype": "text/x-python",
   "name": "python",
   "nbconvert_exporter": "python",
   "pygments_lexer": "ipython3",
   "version": "3.12.4"
  }
 },
 "nbformat": 4,
 "nbformat_minor": 5
}
